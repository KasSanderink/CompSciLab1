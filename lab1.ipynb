{
 "cells": [
  {
   "cell_type": "markdown",
   "metadata": {},
   "source": [
    "# Problem 1.1"
   ]
  },
  {
   "cell_type": "markdown",
   "metadata": {},
   "source": [
    "### Phase plot"
   ]
  },
  {
   "cell_type": "code",
   "execution_count": 100,
   "metadata": {},
   "outputs": [
    {
     "data": {
      "application/vnd.jupyter.widget-view+json": {
       "model_id": "85dd428552b248e0afbb633cc1a40032",
       "version_major": 2,
       "version_minor": 0
      },
      "text/plain": [
       "interactive(children=(FloatSlider(value=3.0, description='beta', max=5.0), FloatSlider(value=1.0, description=…"
      ]
     },
     "metadata": {},
     "output_type": "display_data"
    },
    {
     "data": {
      "text/plain": [
       "<function __main__.phase_interactive_sir(beta=3, gamma=1)>"
      ]
     },
     "execution_count": 100,
     "metadata": {},
     "output_type": "execute_result"
    }
   ],
   "source": [
    "from scipy.integrate import odeint\n",
    "from ipywidgets import interact, fixed\n",
    "\n",
    "import matplotlib.pyplot as plt\n",
    "import numpy as np\n",
    "\n",
    "# Define the system provided in the assignment\n",
    "def system_sir(y, t, beta, gamma):\n",
    "    S, I, R = y\n",
    "    return [-beta*S*I, beta*S*I-gamma*I, gamma*I]\n",
    "\n",
    "# Solve a S.I.R.\n",
    "def solve_sir(system, S0, I0, t, rates):\n",
    "    y0 = [S0, I0, 1-S0-I0]  \n",
    "    sol = odeint(system, y0, t, args=rates)\n",
    "    return sol\n",
    "\n",
    "def phase_plot(system, t_model, rates, fig_name):\n",
    "\n",
    "    # Visual wrap-up\n",
    "    fig = plt.figure()\n",
    "    plt.xlabel('Proportionate number of susceptibles $S$')\n",
    "    plt.ylabel('Proportionate number of infecteds $I$')\n",
    "    plt.plot([0,1], [0.001, 0.001], c='lightgrey')\n",
    "    plt.plot([0,1], [1, 0.001], c='lightgrey')\n",
    "    \n",
    "    # R0 = 0\n",
    "    n_steps = 8\n",
    "    S = np.linspace(0, 1, n_steps)   \n",
    "    for i in range(n_steps):\n",
    "        data = solve_sir(system, S[i],1-S[i], t_model, rates)\n",
    "        plt.plot(S[i], 1-S[i], 'o', c='black')\n",
    "        plt.plot(data[:,0], data[:,1], c='C0')\n",
    "        \n",
    "    # R0 =/= 0\n",
    "    fixed = rates[1]/rates[0]\n",
    "    n_steps = 6\n",
    "    S = np.linspace(fixed, 1, n_steps)\n",
    "    for i in range(n_steps):\n",
    "        data = solve_sir(system, S[i], 0.001, t_model, rates)\n",
    "        plt.plot(S[i], 0.001, 'o', c='black')\n",
    "        plt.plot(data[:,0], data[:,1], c='C0')\n",
    "        \n",
    "    plt.savefig(fig_name)\n",
    "    \n",
    "# Helper function to make function phase_plot interactive    \n",
    "def phase_interactive_sir(beta=3, gamma=1):\n",
    "    t = np.linspace(0, 30, 1000)\n",
    "    phase_plot(system_sir, t, (beta, gamma), 'lab1_1_1_phase_plot.png')\n",
    "\n",
    "interact(phase_interactive_sir, beta=(0, 5.0), gamma=(0, 5.0))"
   ]
  },
  {
   "cell_type": "markdown",
   "metadata": {},
   "source": [
    "Plot S, I and R as a function of time. Make beta and gamma variable"
   ]
  },
  {
   "cell_type": "code",
   "execution_count": 2,
   "metadata": {},
   "outputs": [
    {
     "data": {
      "application/vnd.jupyter.widget-view+json": {
       "model_id": "8ce429e9bf05432eab8493527fc5f969",
       "version_major": 2,
       "version_minor": 0
      },
      "text/plain": [
       "interactive(children=(FloatSlider(value=1.7, description='beta', max=5.0), FloatSlider(value=0.5, description=…"
      ]
     },
     "metadata": {},
     "output_type": "display_data"
    },
    {
     "data": {
      "text/plain": [
       "<function __main__.plot_SIR_vs_time(S0, t_model, beta=1.7, gamma=0.5)>"
      ]
     },
     "execution_count": 2,
     "metadata": {},
     "output_type": "execute_result"
    }
   ],
   "source": [
    "def plot_SIR_vs_time(S0, t_model, beta=1.7, gamma=0.5):\n",
    "    sol = solve_sir(system_sir, S0, 1-S0, t_model, (beta, gamma))\n",
    "    R = np.ones(len(t_model)) - sol[:,0] - sol[:,1]\n",
    "    fig = plt.figure()\n",
    "    plt.plot(t_model, sol[:,0], label='S')\n",
    "    plt.plot(t_model, sol[:,1], label='I')\n",
    "    plt.plot(t_model, R, label='R')\n",
    "    plt.xlabel('Time in timestep t')\n",
    "    plt.ylabel('Scaled S, I and R')\n",
    "    plt.legend()\n",
    "    plt.savefig('lab1_1_1_SIR_vs_time.png')\n",
    "    plt.show()\n",
    "    return 0\n",
    "\n",
    "t_SIR_vs_time = np.linspace(0,14,141)\n",
    "#plot_SIR_vs_time(0.5, t_SIR_vs_time)\n",
    "interact(plot_SIR_vs_time, S0=fixed(0.8), t_model=fixed(t_SIR_vs_time), beta=(0, 5.0), gamma=(0, 5.0))"
   ]
  },
  {
   "cell_type": "markdown",
   "metadata": {},
   "source": [
    "# Problem 1.2"
   ]
  },
  {
   "cell_type": "markdown",
   "metadata": {},
   "source": [
    "Plot model, model points and datapoints"
   ]
  },
  {
   "cell_type": "code",
   "execution_count": 3,
   "metadata": {},
   "outputs": [
    {
     "data": {
      "application/vnd.jupyter.widget-view+json": {
       "model_id": "50b799c0c102417296e6e3c06265e761",
       "version_major": 2,
       "version_minor": 0
      },
      "text/plain": [
       "interactive(children=(FloatSlider(value=1.7, description='beta', max=5.0), FloatSlider(value=0.5, description=…"
      ]
     },
     "metadata": {},
     "output_type": "display_data"
    },
    {
     "data": {
      "text/plain": [
       "<function __main__.plot_figure(S0, t_model, beta=1.7, gamma=0.5)>"
      ]
     },
     "execution_count": 3,
     "metadata": {},
     "output_type": "execute_result"
    }
   ],
   "source": [
    "# Load (i.e. manually type in) data provided in the assignment\n",
    "def load_data():\n",
    "    t_data = list(range(1, 15))\n",
    "    I = np.array([3, 8, 28, 75, 221, 291, 255, 235, 190, 125, 70, 28, 12, 5])/763\n",
    "    return np.array([t_data, I])\n",
    "\n",
    "# Plot the SIR-model\n",
    "def plot_model(sol, t_model):\n",
    "    plt.plot(t_model, sol[:,1], label='I model')\n",
    "    return 0\n",
    "\n",
    "# Plot the predictions made by the model at the timesteps provided by the sample\n",
    "def plot_model_points(sol, t_model, t_data):\n",
    "    index_list = [np.argmax(t_model>=x) for  x in t_data]\n",
    "    x_model_points = [t_model[x] for x in index_list]\n",
    "    y_model_points = [sol[:,1][x] for x in index_list]\n",
    "    plt.scatter(x_model_points, y_model_points)\n",
    "    return 0\n",
    "    \n",
    "# Plot the data from 1.2\n",
    "def plot_data(data):\n",
    "    plt.scatter(data[0], data[1], label='I sample data', zorder=1)\n",
    "    return 0\n",
    "    \n",
    "# Plot a figure which displays the predicted number of infecteds and the number of infecteds in the sample\n",
    "def plot_figure(S0, t_model, beta=1.7, gamma=0.5):\n",
    "    \n",
    "    # Load and calculate data/results, initialize figure\n",
    "    data = load_data()\n",
    "    sol = solve_sir(system_sir, S0, 1-S0, t_model, (beta, gamma))\n",
    "    fig = plt.figure()\n",
    "    \n",
    "    # Plot results\n",
    "    plot_model(sol, t_model)\n",
    "    plot_model_points(sol, t_model, data[0])\n",
    "    plot_data(data)\n",
    "    \n",
    "    # Label axis and show plot\n",
    "    plt.xlabel('Time, t')\n",
    "    plt.ylabel('Number of infecteds scaled to population size, I')\n",
    "    plt.legend()\n",
    "    plt.savefig('lab_1_1_2_influenza_fit.png')\n",
    "    plt.show()\n",
    "    return 0\n",
    "\n",
    "# Initialize problem-specific values, create interactive plot\n",
    "S0_influenza = 1 - 1/763\n",
    "t_influenza = np.linspace(0,14,141)\n",
    "interact(plot_figure, S0=fixed(S0_influenza), t_model=fixed(t_influenza), beta=(0, 5.0), gamma=(0, 5.0))"
   ]
  },
  {
   "cell_type": "markdown",
   "metadata": {},
   "source": [
    "### Fitting"
   ]
  },
  {
   "cell_type": "code",
   "execution_count": 4,
   "metadata": {},
   "outputs": [
    {
     "data": {
      "image/png": "[encoded data removed]",
      "text/plain": [
       "<Figure size 432x288 with 1 Axes>"
      ]
     },
     "metadata": {
      "needs_background": "light"
     },
     "output_type": "display_data"
    },
    {
     "data": {
      "text/plain": [
       "0"
      ]
     },
     "execution_count": 4,
     "metadata": {},
     "output_type": "execute_result"
    }
   ],
   "source": [
    "# Calculate the RMSE between y1 and y2\n",
    "def get_rmse(y1, y2):\n",
    "    n_points = list(range(len(y1)))\n",
    "    return np.sqrt(np.array([((y1[i] - y2[i]) ** 2) for i in n_points]).mean())\n",
    "\n",
    "# Given a beta, gamma and a set of data, calculate the score\n",
    "def get_model_score(model, data, S0, t_model, index_list):\n",
    "    I = solve_sir(system_sir, S0, 1-S0, t_model, (model[0], model[1]))[:,1]\n",
    "    model_points = [I[index] for index in index_list]\n",
    "    mse = get_rmse(model_points, data[1])\n",
    "    return mse\n",
    "\n",
    "# Find the best model (i.e. beta-gamma combination that scores the highest)\n",
    "def get_best_model(models, data, S0, t_model):  \n",
    "    t_data = data[0]\n",
    "    index_list = [np.argmax(t_model>=x) for  x in t_data]\n",
    "    scores = [get_model_score(model, data, S0, t_model, index_list) for model in models]\n",
    "    best_model = models[np.argmin(scores)]\n",
    "    return best_model\n",
    "\n",
    "# Generate a variety of possible beta-gamma combinations\n",
    "def get_beta_gamma():\n",
    "    models = []\n",
    "    for beta in np.arange(1, 2, 0.05):\n",
    "        for gamma in np.arange(0, 1, 0.05):\n",
    "            models.append([beta, gamma])\n",
    "    return np.array(models)\n",
    "\n",
    "# Find the best values for beta and gamma. That is, values that best fit the data from the sample\n",
    "def find_best_fit(t_model, S0):\n",
    "    data = load_data()\n",
    "    models = get_beta_gamma()\n",
    "    t_model = np.linspace(0, 14, 141)\n",
    "    best_model = get_best_model(models, data, S0, t_model)\n",
    "    return best_model\n",
    "\n",
    "# Initialize problem-specific values, find best beta-gamma combination based on MSE\n",
    "t_influenza = np.linspace(0, 14, 141)\n",
    "S0_influenza = 1 - 1/763\n",
    "best_model = find_best_fit(t_influenza, S0_influenza)\n",
    "\n",
    "# Plot figure with the original data, and the model corresponding to the best beta-gamma combination\n",
    "title_influenza = 'Model with minimized MSE, with beta={:1.2f}, gamma={:1.2f}'.format(best_model[0], best_model[1])\n",
    "plot_figure(S0_influenza, t_influenza, best_model[0], best_model[1])"
   ]
  },
  {
   "cell_type": "markdown",
   "metadata": {},
   "source": [
    "# Problem 1.3"
   ]
  },
  {
   "cell_type": "markdown",
   "metadata": {},
   "source": [
    "# Problem 2.1"
   ]
  },
  {
   "cell_type": "markdown",
   "metadata": {},
   "source": [
    "Interactive phase plot for a SIR model with demographics"
   ]
  },
  {
   "cell_type": "code",
   "execution_count": 5,
   "metadata": {},
   "outputs": [
    {
     "data": {
      "application/vnd.jupyter.widget-view+json": {
       "model_id": "810238f9d1bf491e8741a5c652c23b40",
       "version_major": 2,
       "version_minor": 0
      },
      "text/plain": [
       "interactive(children=(FloatSlider(value=3.0, description='beta', max=5.0), FloatSlider(value=1.0, description=…"
      ]
     },
     "metadata": {},
     "output_type": "display_data"
    },
    {
     "data": {
      "text/plain": [
       "<function __main__.phase_interact(beta=3, gamma=1, mu=0.01)>"
      ]
     },
     "execution_count": 5,
     "metadata": {},
     "output_type": "execute_result"
    }
   ],
   "source": [
    "import ipywidgets as widgets\n",
    "\n",
    "# Define a new system of ODE's \n",
    "def system_demographic(y, t, beta, gamma, mu):\n",
    "    S, I, R = y\n",
    "    return [mu - beta*S*I - mu*S, beta*S*I - gamma*I - mu*I, gamma*I - mu*R]\n",
    "    \n",
    "# Recycle the function phase_plot and make it interactive\n",
    "def phase_interact(beta=3, gamma=1, mu=0.01):\n",
    "    t = np.linspace(0, 50, 1000)\n",
    "    system_name = system_demographic\n",
    "    phase_plot(system_name, t, (beta, gamma, mu), 'lab_1_2_1_phase.png')\n",
    "    return 0\n",
    "\n",
    "fig_name_SIR_demographic = 'lab1_2_1_phase.png'\n",
    "interact(phase_interact, beta=(0, 5.0), gamma=(0, 5.0), \n",
    "         mu=widgets.FloatSlider(min=1/100, max=1, step=0.001, value=0.0125))"
   ]
  },
  {
   "cell_type": "markdown",
   "metadata": {},
   "source": [
    "Plot that shows S, I and R as a function of time"
   ]
  },
  {
   "cell_type": "code",
   "execution_count": 150,
   "metadata": {},
   "outputs": [
    {
     "name": "stdout",
     "output_type": "stream",
     "text": [
      "39.863120569757726\n",
      "0.008179012345679013\n"
     ]
    },
    {
     "data": {
      "text/plain": [
       "0"
      ]
     },
     "execution_count": 150,
     "metadata": {},
     "output_type": "execute_result"
    },
    {
     "data": {
      "image/png": "[encoded data removed]",
      "text/plain": [
       "<Figure size 432x288 with 1 Axes>"
      ]
     },
     "metadata": {
      "needs_background": "light"
     },
     "output_type": "display_data"
    }
   ],
   "source": [
    "def calc_fixed_I(beta, gamma, mu):\n",
    "    R0 = calc_R0(beta, gamma, mu)\n",
    "    return (mu/beta)*(R0-1)\n",
    "\n",
    "def calc_G(gamma, mu):\n",
    "    return 1/(mu + gamma)\n",
    "\n",
    "def calc_A(beta, gamma, mu):\n",
    "    R0 = calc_R0(beta, gamma, mu)\n",
    "    return 1/(mu*(R0-1))\n",
    "\n",
    "def calc_R0(beta, gamma, mu):\n",
    "    return beta/(gamma+mu)\n",
    "\n",
    "def calc_S_star(beta, gamma, mu):\n",
    "    R0 = calc_R0(beta, gamma, mu)\n",
    "    return 1/(calc_R0(beta, gamma, mu))\n",
    "\n",
    "def calc_I_star(beta, gamma, mu):\n",
    "    R0 = calc_R0(beta, gamma, mu)\n",
    "    return ((mu*R0)/beta)-(mu/beta)\n",
    "\n",
    "def get_SIR_values_demographic(t, S0, rates):\n",
    "    sol = solve_sir(system_demographic, S0, 0.001, t, rates)\n",
    "    return [sol[:,0], sol[:,1], 1 - sol[:,0] - sol[:,1]]\n",
    "\n",
    "def calc_period(beta, gamma, mu):\n",
    "    return 2*np.pi*np.sqrt(calc_A(beta, gamma, mu)*calc_G(gamma, mu))\n",
    "\n",
    "# Find the first peak by searching for the first value that is smaller than its predecessor\n",
    "def find_first_peak(dXdt, t):\n",
    "    last_val = -1\n",
    "    for i in range(len(dXdt)):\n",
    "        if dXdt[i] < last_val: return t[i]\n",
    "        else: last_val = dXdt[i]\n",
    "    return\n",
    "\n",
    "def plot_SIR_demographic(t, S0, rates):\n",
    "    data = get_SIR_values_demographic(t, S0, rates)\n",
    "    peak_I = find_first_peak(data[1], t)\n",
    "    fig = plt.figure()\n",
    "    period = calc_period(beta, gamma, mu)\n",
    "    print(period)\n",
    "    plt.plot(t, data[1], label='Infected', c='C1')\n",
    "    for i in range(8):\n",
    "        plt.plot([peak_I + i*period, peak_I + i*period], [0, 0.13], c='lightgrey')\n",
    "    fixed = calc_fixed_I(beta, gamma, mu)\n",
    "    print(fixed)\n",
    "    plt.plot([t[0], t[-1]], [fixed, fixed], zorder=0, label='Equilibrium')\n",
    "    plt.xlabel('Time in timestep $t$')\n",
    "    plt.ylabel('Proportionate number of infecteds $I$')\n",
    "    plt.legend()\n",
    "    plt.savefig('lab_4_2_1_I_vs_time.png')\n",
    "    return 0\n",
    "\n",
    "beta=3; gamma=1; mu=0.0125\n",
    "plot_SIR_demographic(np.linspace(0, 300, 1000), 0.7, (beta, gamma, mu))"
   ]
  },
  {
   "cell_type": "code",
   "execution_count": 7,
   "metadata": {},
   "outputs": [
    {
     "data": {
      "application/vnd.jupyter.widget-view+json": {
       "model_id": "937370aa11e241ed8300b29a0642a0ad",
       "version_major": 2,
       "version_minor": 0
      },
      "text/plain": [
       "interactive(children=(FloatSlider(value=0.8, description='S0', max=1.0), FloatSlider(value=1.0, description='b…"
      ]
     },
     "metadata": {},
     "output_type": "display_data"
    },
    {
     "data": {
      "text/plain": [
       "<function __main__.plot_SIR_demographic_interact(t, S0=0.8, beta=1, gamma=0.333, mu=0.016)>"
      ]
     },
     "execution_count": 7,
     "metadata": {},
     "output_type": "execute_result"
    }
   ],
   "source": [
    "def plot_SIR_demographic_interact(t, S0=0.8, beta=1, gamma=0.333, mu=0.016):\n",
    "    print(\"S0={}, beta={}, gamma={}, mu={}\".format(S0, beta, gamma, mu))\n",
    "    plot_SIR_demographic(t, S0, (beta, gamma, mu))\n",
    "    period = calc_period(beta, gamma, mu)\n",
    "    print(period)\n",
    "    plt.xlabel('Time in timestep $t$')\n",
    "    plt.ylabel('Proportionate number of infecteds $I$')\n",
    "    # print(\"A={}\".format(calc_A(beta, gamma, mu)))\n",
    "    # print(\"G={}\".format(calc_G(gamma, mu)))\n",
    "    plt.savefig('lab1_2_1_I_vs_t.png')\n",
    "    plt.show()\n",
    "\n",
    "t_model = np.linspace(50, 400 , 1000)\n",
    "\n",
    "interact(plot_SIR_demographic_interact, t=fixed(t_model), S0=(0,1.0), beta=(1, 5.0), gamma=(0, 5.0), \n",
    "         mu=widgets.FloatSlider(min=0.01, max=0.02, step=0.001, value=0.0125))"
   ]
  },
  {
   "cell_type": "markdown",
   "metadata": {},
   "source": [
    "# Problem 2.2: Adding infection induced mortality"
   ]
  },
  {
   "cell_type": "markdown",
   "metadata": {},
   "source": [
    "SIR model with demography and infection induced mortality. Plot that shows S, I and R as a function of time. This plot is used in the lab report"
   ]
  },
  {
   "cell_type": "code",
   "execution_count": 49,
   "metadata": {},
   "outputs": [
    {
     "data": {
      "image/png": "[encoded data removed]",
      "text/plain": [
       "<Figure size 432x288 with 1 Axes>"
      ]
     },
     "metadata": {
      "needs_background": "light"
     },
     "output_type": "display_data"
    },
    {
     "data": {
      "text/plain": [
       "0"
      ]
     },
     "execution_count": 49,
     "metadata": {},
     "output_type": "execute_result"
    }
   ],
   "source": [
    "# Define SIR system with demography and infection induced mortality\n",
    "def system_mortality(y, t, beta, gamma, mu, rho):\n",
    "    S, I, R = y\n",
    "    dSdt = mu - beta*S*I - mu*S\n",
    "    dIdt = beta*S*I - ((gamma + mu)/(1 - rho))*I\n",
    "    dRdt = gamma*I - mu*R\n",
    "    return [dSdt, dIdt, dRdt]\n",
    "\n",
    "# Solve SIR system with demography and infection induced mortality\n",
    "def solve_system_mortality(system_name, y0, t, rates):\n",
    "    solution = odeint(system_name, y0, t, args=rates)\n",
    "    return solution\n",
    "\n",
    "# Plot S, I and R over time. First line test if total population equals 1\n",
    "def plot_system_mortality(system_name, y0, t, rates):\n",
    "    if 1 == np.array(y0).sum():\n",
    "        fig = plt.figure()\n",
    "        solution = solve_system_mortality(system_name, y0, t, rates)\n",
    "        population = solution[:,0] + solution[:,1] + solution[:,2]\n",
    "        plt.plot(t, solution[:,0], label='S')\n",
    "        plt.plot(t, solution[:,1], label='I')\n",
    "        plt.plot(t, solution[:,2], label='R')\n",
    "        plt.plot(t, population, label='N')\n",
    "        plt.xlabel('Time in timestep t')\n",
    "        plt.ylabel('Relative size of class $X$, $X\\in\\{S, I, R, N\\}$')\n",
    "        plt.legend()\n",
    "        plt.savefig('lab_4_3_1_N_not_constant.png')\n",
    "        plt.show()\n",
    "        return 0\n",
    "    return 1\n",
    "    \n",
    "y0 = [0.8, 0.2, 0]\n",
    "rates = (4, 1, 0.0125, 0.5)\n",
    "plot_system_mortality(system_mortality, y0, np.linspace(0, 30, 100), rates)"
   ]
  },
  {
   "cell_type": "markdown",
   "metadata": {},
   "source": [
    "[remove] Interactive figure that shows S, I and R as a function of time. Every parameter is fixed except $\\rho$."
   ]
  },
  {
   "cell_type": "code",
   "execution_count": 54,
   "metadata": {},
   "outputs": [
    {
     "data": {
      "application/vnd.jupyter.widget-view+json": {
       "model_id": "546a734a1e164adc90ca8cebbbc8154e",
       "version_major": 2,
       "version_minor": 0
      },
      "text/plain": [
       "interactive(children=(FloatSlider(value=0.495, description='rho', max=0.99), Output()), _dom_classes=('widget-…"
      ]
     },
     "metadata": {},
     "output_type": "display_data"
    },
    {
     "data": {
      "text/plain": [
       "<function __main__.interact_system_mortality(rho)>"
      ]
     },
     "execution_count": 54,
     "metadata": {},
     "output_type": "execute_result"
    }
   ],
   "source": [
    "# Helper function to make 'plot_system_mortality' interactive\n",
    "def interact_system_mortality(rho):\n",
    "    y0 = [0.8, 0.001, 0.199]\n",
    "    rates = (10, 1, 0.0125, rho)\n",
    "    plot_system_mortality(system_mortality, y0, np.linspace(0, 50, 1000), rates)  \n",
    "    return 0\n",
    "\n",
    "interact(interact_system_mortality, rho=(0,0.99))"
   ]
  },
  {
   "cell_type": "markdown",
   "metadata": {},
   "source": [
    "Plot $I$ vs a selection of different $\\rho$ values to show that $\\R_0 declines"
   ]
  },
  {
   "cell_type": "code",
   "execution_count": 119,
   "metadata": {},
   "outputs": [
    {
     "data": {
      "image/png": "[encoded data removed]",
      "text/plain": [
       "<Figure size 432x288 with 4 Axes>"
      ]
     },
     "metadata": {
      "needs_background": "light"
     },
     "output_type": "display_data"
    },
    {
     "data": {
      "text/plain": [
       "0"
      ]
     },
     "execution_count": 119,
     "metadata": {},
     "output_type": "execute_result"
    }
   ],
   "source": [
    "def calc_R0_mortality(beta, gamma, mu, rho):\n",
    "    return (beta*(1-rho))/(mu+gamma)\n",
    "\n",
    "# Plot four phase plots for different rho values. Note: rates = (beta, gamma, mu)\n",
    "def plot_I_vs_rho(system_name, y0, t, rates):\n",
    "    beta, gamma, mu = rates\n",
    "    avg_infected = []\n",
    "    rho_vals = [[0.01, 0.25], [0.75, 0.99]]\n",
    "    fig, ax = plt.subplots(2, 2)\n",
    "    fig.text(0.5, 0.02, 'Relative size of class S', ha='center')\n",
    "    fig.text(0.03, 0.5, 'Relative size of class I', va='center', rotation='vertical')\n",
    "    fig.subplots_adjust(hspace=0.4)\n",
    "    for i in range(2):\n",
    "        for j in range(2):\n",
    "            rho = rho_vals[i][j]\n",
    "            sol = solve_system_mortality(system_name, y0, t, (beta, gamma, mu, rho))\n",
    "            R0 = calc_R0_mortality(beta, gamma, mu, rho)\n",
    "            ax[i][j].plot(sol[:,0], sol[:,1])\n",
    "            ax[i][j].set_title(r'$\\rho$={}, $R_0$={:1.2f}'.format(rho_vals[i][j], R0))\n",
    "            \n",
    "    plt.savefig('lab_4_3_1_rho_vs_I.png')\n",
    "    plt.show()\n",
    "    return 0\n",
    " \n",
    "y0 = [0.8, 0.2, 0]\n",
    "rates = (3, 1, 0.0125)\n",
    "plot_I_vs_rho(system_mortality, y0, np.linspace(0, 200, 1000), rates)\n",
    "\n"
   ]
  },
  {
   "cell_type": "markdown",
   "metadata": {},
   "source": [
    "Plot $R_0$ as a function of $\\rho$ in order to show that $R_0$ approaches 0 as $\\rho$ approaches 1"
   ]
  },
  {
   "cell_type": "code",
   "execution_count": 10,
   "metadata": {},
   "outputs": [],
   "source": [
    "# Recycled function, repeated here for clarity\n",
    "def calc_R0(beta, gamma, mu):\n",
    "    return beta/(gamma+mu)\n",
    "\n",
    "# Note that the rates parameter does not include rho in this case\n",
    "def find_R0_values(y0, t, rates):\n",
    "    beta, gamma, mu = rates\n",
    "    R0_values = [calc_R0(beta, gamma, mu) for rho in np.arange(0, 1, 0.01)]\n",
    "    \n",
    "\n",
    "    \n",
    "y0 = [0.8, 0.2, 0]\n",
    "rates = (3, 1, 0.0125)\n",
    "t = np.linspace(0, 300, 1000)\n",
    "find_R0_values(y0, t, rates)"
   ]
  },
  {
   "cell_type": "markdown",
   "metadata": {},
   "source": [
    "# Problem 3: SEIR and forcing"
   ]
  },
  {
   "cell_type": "markdown",
   "metadata": {},
   "source": [
    "[not used in lab report] SEIR model without seasononality. Simple plot."
   ]
  },
  {
   "cell_type": "code",
   "execution_count": 11,
   "metadata": {},
   "outputs": [
    {
     "data": {
      "image/png": "[encoded data removed]",
      "text/plain": [
       "<Figure size 432x288 with 1 Axes>"
      ]
     },
     "metadata": {
      "needs_background": "light"
     },
     "output_type": "display_data"
    },
    {
     "data": {
      "text/plain": [
       "0"
      ]
     },
     "execution_count": 11,
     "metadata": {},
     "output_type": "execute_result"
    }
   ],
   "source": [
    "def system_SEIR(y, t, beta, gamma, sigma, mu):\n",
    "    S, E, I, R = y\n",
    "    dSdt = mu - (beta*I + mu)*S\n",
    "    dEdt = beta*S*I - (mu + sigma)*E\n",
    "    dIdt = sigma*E - (mu +gamma)*I\n",
    "    dRdt = gamma*I - mu*R\n",
    "    return [dSdt, dEdt, dIdt, dRdt]\n",
    "\n",
    "# y0 is a list containing [S0, E0, I0, R0]\n",
    "# rates is a tuple containing (beta, gamma, sigma, mu)\n",
    "def solve_system_SEIR(system_name, t, y0, rates):\n",
    "    return odeint(system_name, y0, t, args=rates)\n",
    "    \n",
    "def plot_system_SEIR(system_name, t, y0, rates):\n",
    "    solution = solve_system_SEIR(system_name, t, y0, rates)\n",
    "    plt.plot(t, solution[:,0], label='S')\n",
    "    plt.plot(t, solution[:,1], label='E')\n",
    "    plt.plot(t, solution[:,2], label='I')\n",
    "    plt.plot(t, solution[:,3], label='R')\n",
    "    plt.legend()\n",
    "    plt.show()\n",
    "    return 0\n",
    "    \n",
    "plot_system_SEIR(system_SEIR, np.linspace(0, 30, 100), [0.9, 0.1, 0, 0], (3, 1, 2, 0.0125))"
   ]
  },
  {
   "cell_type": "markdown",
   "metadata": {},
   "source": [
    "[not used in lab report] Interactive plot to understand the behaviour of function $\\beta(t)=\\beta_0*(1+\\beta_1*\\cos (\\omega*t)$"
   ]
  },
  {
   "cell_type": "code",
   "execution_count": 12,
   "metadata": {},
   "outputs": [
    {
     "data": {
      "application/vnd.jupyter.widget-view+json": {
       "model_id": "82c404bbb9fe42ecae79db92491268f1",
       "version_major": 2,
       "version_minor": 0
      },
      "text/plain": [
       "interactive(children=(FloatSlider(value=3.0, description='beta_0', max=5.0, min=1.0), FloatSlider(value=0.5, d…"
      ]
     },
     "metadata": {},
     "output_type": "display_data"
    },
    {
     "data": {
      "text/plain": [
       "<function __main__.interact_plot_beta_forcing(beta_0, beta_1, omega)>"
      ]
     },
     "execution_count": 12,
     "metadata": {},
     "output_type": "execute_result"
    }
   ],
   "source": [
    "# Calculate beta\n",
    "def calc_beta(t, beta_0, beta_1, omega):\n",
    "    return beta_0 * (1 + beta_1*np.cos(omega*t))\n",
    "\n",
    "# Plot a figure with the value of beta vs time\n",
    "def plot_beta_forcing(t_model, beta_0, beta_1, omega):\n",
    "    fig = plt.figure(figsize=(15,6))\n",
    "    beta = [calc_beta(t, beta_0, beta_1, omega) for t in t_model]\n",
    "    plt.plot(t_model, beta)\n",
    "    plt.plot([0, 1], [10, 10])\n",
    "    plt.show()\n",
    "    \n",
    "# Helper function to make 'plot_beta_forcing' interactive\n",
    "def interact_plot_beta_forcing(beta_0, beta_1, omega):\n",
    "    t_model = np.linspace(0, 300, 1000)\n",
    "    plot_beta_forcing(t_model, beta_0, beta_1, omega)\n",
    "\n",
    "interact(interact_plot_beta_forcing, beta_0=(1,5.0), beta_1=(0.01, 0.99), omega=(0, 1.0))"
   ]
  },
  {
   "cell_type": "markdown",
   "metadata": {},
   "source": [
    "SIR model with demography and forcing"
   ]
  },
  {
   "cell_type": "code",
   "execution_count": 153,
   "metadata": {},
   "outputs": [
    {
     "data": {
      "application/vnd.jupyter.widget-view+json": {
       "model_id": "3e1bfffd46484a5cbdb722e4e01e4ecf",
       "version_major": 2,
       "version_minor": 0
      },
      "text/plain": [
       "interactive(children=(FloatSlider(value=2.2, description='beta_0', max=5.0), FloatSlider(value=0.25, descripti…"
      ]
     },
     "metadata": {},
     "output_type": "display_data"
    },
    {
     "data": {
      "text/plain": [
       "<function __main__.interact_plot_SIR_forcing(beta_0=2.2, beta_1=0.25, omega=0.05)>"
      ]
     },
     "execution_count": 153,
     "metadata": {},
     "output_type": "execute_result"
    }
   ],
   "source": [
    "# Define the system provided in the assignment\n",
    "def system_SIR_forcing(y, t, beta_0, beta_1, omega, gamma, mu):\n",
    "    S, I, R = y\n",
    "    beta = beta_0*(1 + beta_1*np.cos(omega*t))\n",
    "    return [mu - beta*S*I - mu*S, beta*S*I - gamma*I - mu*I, gamma*I - mu*R]\n",
    "\n",
    "# Solve a SIR with forcing\n",
    "def solve_SIR_forcing(system_name, t, y0, rates):\n",
    "    return odeint(system_name, y0, t, args=rates)\n",
    "\n",
    "def plot_SIR_forcing(system_name, t, y0, rates):\n",
    "    fig = plt.figure()\n",
    "    solution = solve_SIR_forcing(system_name, t, y0, rates)\n",
    "    plt.plot(t, solution[:,0], label='S')\n",
    "    plt.plot(t, solution[:,1], label='I')\n",
    "    plt.plot(t, solution[:,2], label='R')\n",
    "    plt.xlabel('Time, t')\n",
    "    plt.ylabel('Proportionate class size')\n",
    "    plt.legend()\n",
    "    plt.savefig('lab_results_forcing.png')\n",
    "    plt.show()\n",
    "    return 0\n",
    "\n",
    "def interact_plot_SIR_forcing(beta_0=2.2, beta_1=0.25, omega=0.05):\n",
    "    t = np.linspace(0, 600, 1000)\n",
    "    y0 = [0.8, 0.2, 0]\n",
    "    rates = (beta_0, beta_1, omega, 1, 0.0125)\n",
    "    plot_SIR_forcing(system_SIR_forcing, t, y0, rates)\n",
    "    return 0\n",
    "\n",
    "interact(interact_plot_SIR_forcing, beta_0=(0,5.0), beta_1=(0.05, 0.55), omega=(0.05, 0.55))"
   ]
  },
  {
   "cell_type": "markdown",
   "metadata": {},
   "source": [
    "SEIR model with forcing. Simple plot"
   ]
  },
  {
   "cell_type": "code",
   "execution_count": 166,
   "metadata": {},
   "outputs": [
    {
     "data": {
      "image/png": "[encoded data removed]",
      "text/plain": [
       "<Figure size 432x288 with 1 Axes>"
      ]
     },
     "metadata": {
      "needs_background": "light"
     },
     "output_type": "display_data"
    },
    {
     "data": {
      "text/plain": [
       "0"
      ]
     },
     "execution_count": 166,
     "metadata": {},
     "output_type": "execute_result"
    }
   ],
   "source": [
    "def system_SEIR_forcing(y, t, beta_0, beta_1, omega, gamma, sigma, mu):\n",
    "    S, E, I, R = y\n",
    "    beta = beta_0*(1 + beta_1*np.cos(omega*t))\n",
    "    dSdt = mu - (beta*I + mu)*S\n",
    "    dEdt = beta*S*I - (mu + sigma)*E\n",
    "    dIdt = sigma*E - (mu +gamma)*I\n",
    "    dRdt = gamma*I - mu*R\n",
    "    return [dSdt, dEdt, dIdt, dRdt]\n",
    "\n",
    "# y0 is a list containing [S0, E0, I0, R0]\n",
    "# rates is a tuple containing (beta, gamma, sigma, mu)\n",
    "def solve_system_SEIR_forcing(system_name, t, y0, rates):\n",
    "    return odeint(system_name, y0, t, args=rates)\n",
    "\n",
    "def plot_system_SEIR_forcing(system_name, t, y0, rates):\n",
    "    fig = plt.figure()\n",
    "    solution = solve_system_SEIR_forcing(system_name, t, y0, rates)\n",
    "    plt.plot(t, solution[:,0], label='S')\n",
    "    plt.plot(t, solution[:,1], label='E')\n",
    "    plt.plot(t, solution[:,2], label='I')\n",
    "    plt.plot(t, solution[:,3], label='R')\n",
    "    plt.xlabel('Time, t')\n",
    "    plt.ylabel('Proportionate class size')\n",
    "    plt.legend()\n",
    "    plt.savefig('lab_results_SEIR.png')\n",
    "    plt.show()\n",
    "    return 0\n",
    "\n",
    "beta_0 = 2.5; beta_1 = 0.5; omega = 0.3; gamma = 1; sigma = 2; mu = 0.0125\n",
    "rates = (beta_0, beta_1, omega, gamma, sigma, mu)\n",
    "\n",
    "S0 = 0.9; E0 = 0.001; I0 = 0.199; R0 = 0\n",
    "y0 = [S0, E0, I0, R0]\n",
    "\n",
    "plot_system_SEIR_forcing(system_SEIR_forcing, np.linspace(0, 30, 100), y0, rates)"
   ]
  },
  {
   "cell_type": "markdown",
   "metadata": {},
   "source": [
    "Interactive SEIR model with seasonality. Average transmission rate $\\beta_0$, seasonality period $\\beta_1$ and forcing period $\\omega$ are variable."
   ]
  },
  {
   "cell_type": "code",
   "execution_count": 157,
   "metadata": {},
   "outputs": [
    {
     "data": {
      "application/vnd.jupyter.widget-view+json": {
       "model_id": "2ed45979f4fd443b8c31dafd1fab8bcf",
       "version_major": 2,
       "version_minor": 0
      },
      "text/plain": [
       "interactive(children=(FloatSlider(value=2.5, description='beta_0', max=5.0), FloatSlider(value=0.5, descriptio…"
      ]
     },
     "metadata": {},
     "output_type": "display_data"
    },
    {
     "data": {
      "text/plain": [
       "<function __main__.interact_plot_system_SEIR_forcing(beta_0=2.5, beta_1=0.5, omega=0.3)>"
      ]
     },
     "execution_count": 157,
     "metadata": {},
     "output_type": "execute_result"
    }
   ],
   "source": [
    "# Helper function to make 'plot_system_SEIR' interactive\n",
    "def interact_plot_system_SEIR_forcing(beta_0=2.5, beta_1=0.5, omega=0.3):\n",
    "    gamma = 1; sigma = 2; mu = 0.0125\n",
    "    rates = (beta_0, beta_1, omega, gamma, sigma, mu)\n",
    "    \n",
    "    S0 = 0.9; E0 = 0.001; I0 = 0; R0 = 0\n",
    "    classes = [S0, E0, I0, R0]\n",
    "    \n",
    "    plot_system_SEIR_forcing(system_SEIR_forcing, np.linspace(0, 600, 1000), classes, rates)\n",
    "    return 0\n",
    "\n",
    "interact(interact_plot_system_SEIR_forcing, beta_0=(0, 5.0), beta_1=(0.01, 0.99), omega=(0,1.0))"
   ]
  }
 ],
 "metadata": {
  "kernelspec": {
   "display_name": "Python 3",
   "language": "python",
   "name": "python3"
  },
  "language_info": {
   "codemirror_mode": {
    "name": "ipython",
    "version": 3
   },
   "file_extension": ".py",
   "mimetype": "text/x-python",
   "name": "python",
   "nbconvert_exporter": "python",
   "pygments_lexer": "ipython3",
   "version": "3.7.4"
  }
 },
 "nbformat": 4,
 "nbformat_minor": 2
}
